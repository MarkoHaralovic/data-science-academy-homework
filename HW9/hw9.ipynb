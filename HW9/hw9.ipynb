{
 "cells": [
  {
   "cell_type": "markdown",
   "metadata": {},
   "source": [
    "General task : \n",
    "\n",
    "   - The goal of this task is to create personalized recommendations for football matches\n",
    "   (events) for users over a one-week period. Personalized recommendations are crucial in\n",
    "   numerous applications to ensure users are satisfied with the content provided. In this case,\n",
    "   you will generate personalized recommendations of football matches for a one-week period\n",
    "   based on the teams each user follows."
   ]
  },
  {
   "cell_type": "markdown",
   "metadata": {},
   "source": [
    "Data retrival"
   ]
  },
  {
   "cell_type": "code",
   "execution_count": 41,
   "metadata": {},
   "outputs": [],
   "source": [
    "from clickhouse_driver import Client\n",
    "import pandas as pd\n",
    "import ast\n",
    "import datetime\n",
    "import pickle \n",
    "from collections import defaultdict \n",
    "import json\n"
   ]
  },
  {
   "cell_type": "code",
   "execution_count": 42,
   "metadata": {},
   "outputs": [],
   "source": [
    "bqClient = Client(\n",
    "user='mharalovic',\n",
    "password='Fs75EePJ3m54EyysB75U',\n",
    "host='clickhouse.sofascore.ai',\n",
    "port='9000',\n",
    ")"
   ]
  },
  {
   "cell_type": "markdown",
   "metadata": {},
   "source": [
    "Retriving all football teams that played a match between '20230101' and '20230630' from the table sports.event."
   ]
  },
  {
   "cell_type": "code",
   "execution_count": 43,
   "metadata": {},
   "outputs": [],
   "source": [
    "query = \"\"\"    SELECT t.id\n",
    "               FROM sports.event AS e\n",
    "               LEFT JOIN sports.sport AS s ON e.sport_id = toInt8(s.id)\n",
    "               LEFT JOIN sports.team AS t ON e.hometeam_id = t.id\n",
    "               WHERE s.name = 'Football'\n",
    "               AND toYYYYMMDD(e.startdate) BETWEEN '20230101' AND '20230630'\n",
    "               UNION DISTINCT\n",
    "               SELECT t1.id\n",
    "               FROM sports.event AS e\n",
    "               LEFT JOIN sports.sport AS s ON e.sport_id = toInt8(s.id)\n",
    "               LEFT JOIN sports.team AS t1 ON e.awayteam_id = t1.id\n",
    "               WHERE s.name = 'Football'\n",
    "               AND toYYYYMMDD(e.startdate) BETWEEN '20230101' AND '20230630';\n",
    "       \"\"\""
   ]
  },
  {
   "cell_type": "code",
   "execution_count": 44,
   "metadata": {},
   "outputs": [],
   "source": [
    "team_ids = bqClient.execute(query)"
   ]
  },
  {
   "cell_type": "code",
   "execution_count": 45,
   "metadata": {},
   "outputs": [],
   "source": [
    "teams_df = pd.DataFrame(team_ids, columns=['team_id'])\n",
    "teams_df.to_csv('teams.csv', index=False)"
   ]
  },
  {
   "cell_type": "markdown",
   "metadata": {},
   "source": [
    "Retrieving all users data "
   ]
  },
  {
   "cell_type": "code",
   "execution_count": 46,
   "metadata": {},
   "outputs": [],
   "source": [
    "query2 = \"\"\" SELECT user_account_id, teams, mcc\n",
    "            FROM bq.mobileuser\n",
    "            WHERE user_account_id IS NOT NULL\n",
    "               AND teams IS NOT NULL\n",
    "               AND length(teams) > 0\n",
    "               AND toYYYYMMDD(created_at) <= '20230630'\n",
    "               AND toYYYYMMDD(updated_at) <= '20230630'\n",
    "               AND mcc IN (216, 218, 219, 220, 221, 222, 226, 232, 262, 276, 284, 293, 294,297)\n",
    "            ORDER BY mcc DESC\n",
    "        \"\"\""
   ]
  },
  {
   "cell_type": "code",
   "execution_count": 47,
   "metadata": {},
   "outputs": [],
   "source": [
    "user_data =  bqClient.execute(query2)"
   ]
  },
  {
   "cell_type": "code",
   "execution_count": 48,
   "metadata": {},
   "outputs": [],
   "source": [
    "user_data_df = pd.DataFrame(user_data, columns=['user_account_id', 'teams', 'mcc'])\n",
    "user_data_df['teams'] = user_data_df['teams'].apply(lambda x: ast.literal_eval(x) if isinstance(x, str) else x)\n",
    "user_data_df['teams'] = user_data_df['teams'].apply(tuple)\n",
    "user_data_df = user_data_df.drop_duplicates()"
   ]
  },
  {
   "cell_type": "markdown",
   "metadata": {},
   "source": [
    "Removing 47 users that had multiple MCC values (identical rows, simply having 2+ MCC values)"
   ]
  },
  {
   "cell_type": "code",
   "execution_count": 49,
   "metadata": {},
   "outputs": [],
   "source": [
    "user_counts = user_data_df['user_account_id'].value_counts()\n",
    "users_with_multiple_records = user_counts[user_counts > 1].index\n",
    "\n",
    "user_data_df = user_data_df[~user_data_df['user_account_id'].isin(users_with_multiple_records)]"
   ]
  },
  {
   "cell_type": "code",
   "execution_count": 50,
   "metadata": {},
   "outputs": [],
   "source": [
    "user_data_df.to_csv('./data/user_data.csv',index=False)"
   ]
  },
  {
   "cell_type": "code",
   "execution_count": 51,
   "metadata": {},
   "outputs": [
    {
     "data": {
      "text/html": [
       "<div>\n",
       "<style scoped>\n",
       "    .dataframe tbody tr th:only-of-type {\n",
       "        vertical-align: middle;\n",
       "    }\n",
       "\n",
       "    .dataframe tbody tr th {\n",
       "        vertical-align: top;\n",
       "    }\n",
       "\n",
       "    .dataframe thead th {\n",
       "        text-align: right;\n",
       "    }\n",
       "</style>\n",
       "<table border=\"1\" class=\"dataframe\">\n",
       "  <thead>\n",
       "    <tr style=\"text-align: right;\">\n",
       "      <th></th>\n",
       "      <th>user_account_id</th>\n",
       "      <th>teams</th>\n",
       "      <th>mcc</th>\n",
       "    </tr>\n",
       "  </thead>\n",
       "  <tbody>\n",
       "    <tr>\n",
       "      <th>0</th>\n",
       "      <td>5bc624c559a182e430b5c8b4</td>\n",
       "      <td>(5152, 14882, 6637)</td>\n",
       "      <td>297</td>\n",
       "    </tr>\n",
       "  </tbody>\n",
       "</table>\n",
       "</div>"
      ],
      "text/plain": [
       "            user_account_id                teams  mcc\n",
       "0  5bc624c559a182e430b5c8b4  (5152, 14882, 6637)  297"
      ]
     },
     "execution_count": 51,
     "metadata": {},
     "output_type": "execute_result"
    }
   ],
   "source": [
    "user_data_df.head(1)"
   ]
  },
  {
   "cell_type": "markdown",
   "metadata": {},
   "source": [
    "Data preprocessing tasks \n",
    "- filter the teams that each user follows by retaining only those teams that are playing relevant events\n",
    "- if a user does not follow any of those teams, discard the user"
   ]
  },
  {
   "cell_type": "markdown",
   "metadata": {},
   "source": [
    "1st task -> getting relevant teams"
   ]
  },
  {
   "cell_type": "code",
   "execution_count": 52,
   "metadata": {},
   "outputs": [],
   "source": [
    "user_data_df['teams'] = user_data_df['teams'].apply(lambda team_list: [team for team in team_list if team in teams_df['team_id'].values])"
   ]
  },
  {
   "cell_type": "code",
   "execution_count": 53,
   "metadata": {},
   "outputs": [],
   "source": [
    "user_data_df = user_data_df[user_data_df['teams'].apply(len) > 0]"
   ]
  },
  {
   "cell_type": "markdown",
   "metadata": {},
   "source": [
    "- Grouping user by MCC and getting the teams that each user follow\n",
    "- Creating dict afterwards -> key is mcc, values are 'teams' and 'user_account_id', which hold all the inf about the teams and user account connected to specific group (mcc) -> for O(1) lookups"
   ]
  },
  {
   "cell_type": "code",
   "execution_count": 54,
   "metadata": {},
   "outputs": [],
   "source": [
    "grouped_by_mcc = user_data_df.groupby('mcc').agg({\n",
    "    'user_account_id': lambda x: list(x),\n",
    "    'teams': lambda x: list(set(sum(x, [])))\n",
    "}).reset_index().set_index('mcc')"
   ]
  },
  {
   "cell_type": "code",
   "execution_count": 55,
   "metadata": {},
   "outputs": [],
   "source": [
    "grouped_by_mcc = grouped_by_mcc.apply(lambda row: row.update({'user_account_id': sorted(row['user_account_id']), 'teams': sorted(row['teams'])}) or row, axis=1)"
   ]
  },
  {
   "cell_type": "code",
   "execution_count": 56,
   "metadata": {},
   "outputs": [],
   "source": [
    "grouped_by_mcc_dict = grouped_by_mcc.to_dict(orient='index')"
   ]
  },
  {
   "cell_type": "markdown",
   "metadata": {},
   "source": [
    "Saving dict and dataframe locally"
   ]
  },
  {
   "cell_type": "code",
   "execution_count": 57,
   "metadata": {},
   "outputs": [],
   "source": [
    "import pickle \n",
    "\n",
    "with open('./data/grouped_by_mcc_dict.pkl', 'wb') as f:\n",
    "    pickle.dump(grouped_by_mcc_dict, f)"
   ]
  },
  {
   "cell_type": "code",
   "execution_count": 58,
   "metadata": {},
   "outputs": [],
   "source": [
    "user_data_df.to_csv('./data/user_data.csv', index=False)\n",
    "user_data_df.to_csv('./data/user_data.csv',index=False)\n"
   ]
  },
  {
   "cell_type": "code",
   "execution_count": 59,
   "metadata": {},
   "outputs": [],
   "source": [
    "user_data_dict = user_data_df.set_index('user_account_id').to_dict(orient='index')\n",
    "\n",
    "with open('./data/user_data_dict.pkl', 'wb') as f:\n",
    "    pickle.dump(user_data_dict, f)"
   ]
  },
  {
   "cell_type": "markdown",
   "metadata": {},
   "source": [
    "Retrieving events data"
   ]
  },
  {
   "cell_type": "code",
   "execution_count": 60,
   "metadata": {},
   "outputs": [],
   "source": [
    "query3 = \"\"\"\n",
    "        SELECT \n",
    "            toStartOfWeek(startdate, 1) AS week_start,\n",
    "            groupArray(id) AS event_ids,\n",
    "            groupArray((hometeam_id, awayteam_id)) AS team_ids\n",
    "         FROM\n",
    "            sports.event\n",
    "         LEFT JOIN\n",
    "            sports.sport s ON event.sport_id = toInt8(s.id)\n",
    "         WHERE\n",
    "            toYYYYMMDD(startdate) >= '20230601' AND toYYYYMMDD(startdate) <= '20230630' AND s.name = 'Football'\n",
    "         GROUP BY \n",
    "            week_start\n",
    "         ORDER BY \n",
    "            week_start\n",
    "        \"\"\""
   ]
  },
  {
   "cell_type": "code",
   "execution_count": 61,
   "metadata": {},
   "outputs": [],
   "source": [
    "events_data = bqClient.execute(query3)"
   ]
  },
  {
   "cell_type": "code",
   "execution_count": 62,
   "metadata": {},
   "outputs": [],
   "source": [
    "events_data = pd.DataFrame(events_data, columns=['week_start', 'event_ids', 'team_ids'])\n",
    "events_data.to_csv('./data/events_data.csv', index=False)"
   ]
  },
  {
   "cell_type": "code",
   "execution_count": 63,
   "metadata": {},
   "outputs": [],
   "source": [
    "events_data_dict = events_data.set_index('week_start').to_dict(orient='index')\n",
    "with open('./data/events_data_dict.pkl', 'wb') as f:\n",
    "    pickle.dump(events_data_dict, f)"
   ]
  },
  {
   "cell_type": "markdown",
   "metadata": {},
   "source": [
    "Recommendation system \n",
    "- recommendations should be generated for events based on the teams that each user\n",
    "follows.\n",
    "- we recommend an event to a user if the user follows any of the two\n",
    "teams playing in that event."
   ]
  },
  {
   "cell_type": "code",
   "execution_count": 65,
   "metadata": {},
   "outputs": [],
   "source": [
    "resolved_users, non_resolved_users = [],[]\n",
    "event_based_user_recommendation = {}\n",
    "user_based_user_recommendation = {}"
   ]
  },
  {
   "cell_type": "code",
   "execution_count": 66,
   "metadata": {},
   "outputs": [],
   "source": [
    "dates = [datetime.date(2023, 5, 29), \n",
    "         datetime.date(2023, 6, 5),\n",
    "         datetime.date(2023, 6, 12), \n",
    "         datetime.date(2023, 6, 19), \n",
    "         datetime.date(2023, 6, 26)\n",
    "         ]"
   ]
  },
  {
   "cell_type": "markdown",
   "metadata": {},
   "source": [
    "Mappping, for each data, map team_id with event id"
   ]
  },
  {
   "cell_type": "code",
   "execution_count": 67,
   "metadata": {},
   "outputs": [],
   "source": [
    "teams_to_event_mapping = {date : {} for date in dates}"
   ]
  },
  {
   "cell_type": "code",
   "execution_count": 68,
   "metadata": {},
   "outputs": [],
   "source": [
    "for date in dates:\n",
    "   for event_id,teams in zip(events_data_dict[date]['event_ids'],events_data_dict[date]['team_ids']):\n",
    "      for team in teams:\n",
    "         if team not in teams_to_event_mapping[date]:\n",
    "            teams_to_event_mapping[date][team] = []\n",
    "         teams_to_event_mapping[date][team].append(event_id)  "
   ]
  },
  {
   "cell_type": "markdown",
   "metadata": {},
   "source": [
    "Event based recommendation"
   ]
  },
  {
   "cell_type": "code",
   "execution_count": 69,
   "metadata": {},
   "outputs": [],
   "source": [
    "for user, user_data in user_data_dict.items():\n",
    "    event_based_user_recommendation[user] = {}\n",
    "    for date in dates:\n",
    "        event_ids_for_date = set()\n",
    "        for team in user_data['teams']:\n",
    "            if team in teams_to_event_mapping[date]:\n",
    "                event_ids_for_date.update(teams_to_event_mapping[date][team])\n",
    "        if event_ids_for_date:\n",
    "            event_based_user_recommendation[user][date] = list(event_ids_for_date)\n",
    "    if all(date in event_based_user_recommendation[user] for date in dates):\n",
    "        resolved_users.append(user)\n",
    "    else:\n",
    "        non_resolved_users.append(user)"
   ]
  },
  {
   "cell_type": "code",
   "execution_count": 70,
   "metadata": {},
   "outputs": [],
   "source": [
    "resolved_users_by_mcc = defaultdict(list)\n",
    "for user in resolved_users:\n",
    "    user_mcc = user_data_dict[user]['mcc']\n",
    "    resolved_users_by_mcc[user_mcc].append(user)"
   ]
  },
  {
   "cell_type": "markdown",
   "metadata": {},
   "source": [
    "User mappings based on similarity for each date\n",
    "\n",
    "*Similarity* is defined ad : \n",
    "- for each user, looking at the users in their macc that have team followings from the previous task, calculate the number of teams they both follow and assign a score of similarity, then choose top 10 msot similar user to the user and give theirs recommendations for each period.\n",
    "\n",
    "*Algorithm*\n",
    "- for user *u* look at set of users *U* in the same macc\n",
    "- calculate static similarity between each user based on the teams they follow (using Jaccard similarity, as there are set of items (teams) without specific continuous variable)\n",
    "- for each date, filter users *U* based on the fact they got following recommendations\n",
    "- get 10 most similar users in preferences and all of ther reccomendations add as user *u* recommendation to follow in the given week"
   ]
  },
  {
   "cell_type": "markdown",
   "metadata": {},
   "source": [
    "- for each user, looking at the users in their macc that have team followings from the previous task, calculate the number of teams they both follow and assign a score of similarity, then choose top 10 msot similar user to the user and give theirs recommendations for each period.\n",
    "\n",
    "*Algorithm*\n",
    "- for user *u* look at set of users *U* in the same macc\n",
    "- calculate static similarity between each user based on the teams they follow (using Jaccard similarity, as there are set of items (teams) without specific continuous variable)\n",
    "- for each date, filter users *U* based on the fact they got following recommendations\n",
    "- get 10 most similar users in preferences and all of ther reccomendations add as user *u* recommendation to follow in the given week"
   ]
  },
  {
   "cell_type": "markdown",
   "metadata": {},
   "source": [
    "1.st -> precomputing the similarities between users in the same macc"
   ]
  },
  {
   "cell_type": "code",
   "execution_count": 71,
   "metadata": {},
   "outputs": [],
   "source": [
    "def jaccard_similarity(set1, set2): #  accessed on https://www.geeksforgeeks.org/how-to-calculate-jaccard-similarity-in-python/ , 26.05.2024. at 14:09\n",
    "    # intersection of two sets\n",
    "    intersection = len(set1.intersection(set2))\n",
    "    # Unions of two sets\n",
    "    union = len(set1.union(set2))\n",
    "     \n",
    "    return intersection / union "
   ]
  },
  {
   "cell_type": "code",
   "execution_count": 72,
   "metadata": {},
   "outputs": [],
   "source": [
    "user_based_user_recommendation = defaultdict(lambda: defaultdict(list))"
   ]
  },
  {
   "cell_type": "code",
   "execution_count": 74,
   "metadata": {},
   "outputs": [],
   "source": [
    "for user in non_resolved_users:\n",
    "    user_teams = set(user_data_dict[user]['teams'])\n",
    "    user_mcc = user_data_dict[user]['mcc']\n",
    "    similar_users = []\n",
    "    \n",
    "    for resolved_user in resolved_users_by_mcc[user_mcc]:\n",
    "        resolved_user_teams = set(user_data_dict[resolved_user]['teams'])\n",
    "        similarity = jaccard_similarity(user_teams, resolved_user_teams)\n",
    "        similar_users.append((resolved_user, similarity))\n",
    "    \n",
    "    similar_users.sort(key=lambda x: x[1], reverse=True)\n",
    "    top_similar_users = [u for u, _ in similar_users[:10]]\n",
    "\n",
    "    for date in dates:\n",
    "        recommendations = set()\n",
    "        for similar_user in top_similar_users:\n",
    "            if date in event_based_user_recommendation[similar_user]:\n",
    "                recommendations.update(event_based_user_recommendation[similar_user][date])\n",
    "        if recommendations:\n",
    "            user_based_user_recommendation[user][date] = list(recommendations)"
   ]
  },
  {
   "cell_type": "markdown",
   "metadata": {},
   "source": [
    "Total execution time locally on a CPU : 5m 24.7 s"
   ]
  },
  {
   "cell_type": "markdown",
   "metadata": {},
   "source": [
    "Reccomendation system is done, save data locally"
   ]
  },
  {
   "cell_type": "code",
   "execution_count": 87,
   "metadata": {},
   "outputs": [],
   "source": [
    "user_recommendation = defaultdict(lambda: defaultdict(list))"
   ]
  },
  {
   "cell_type": "code",
   "execution_count": 88,
   "metadata": {},
   "outputs": [],
   "source": [
    "for user in user_data_dict.keys():\n",
    "    for date in dates:\n",
    "        event_recs = event_based_user_recommendation.get(user, {}).get(date, [])\n",
    "        user_recs = user_based_user_recommendation.get(user, {}).get(date, [])\n",
    "        combined_recs = set(event_recs).union(set(user_recs))\n",
    "        if combined_recs:\n",
    "            user_recommendation[user][str(date)] = list(combined_recs)"
   ]
  },
  {
   "cell_type": "code",
   "execution_count": 89,
   "metadata": {},
   "outputs": [],
   "source": [
    "user_recommendation = {user: dict(dates) for user, dates in user_recommendation.items()}"
   ]
  },
  {
   "cell_type": "code",
   "execution_count": 90,
   "metadata": {},
   "outputs": [],
   "source": [
    "with open('./recommendations/user_recommendation.json', 'w') as f:\n",
    "    json.dump(user_recommendation, f, indent=4)"
   ]
  }
 ],
 "metadata": {
  "kernelspec": {
   "display_name": "Python 3",
   "language": "python",
   "name": "python3"
  },
  "language_info": {
   "codemirror_mode": {
    "name": "ipython",
    "version": 3
   },
   "file_extension": ".py",
   "mimetype": "text/x-python",
   "name": "python",
   "nbconvert_exporter": "python",
   "pygments_lexer": "ipython3",
   "version": "3.11.5"
  }
 },
 "nbformat": 4,
 "nbformat_minor": 2
}
