{
 "cells": [
  {
   "cell_type": "markdown",
   "metadata": {},
   "source": [
    "General task : \n",
    "\n",
    "   - The goal of this task is to create personalized recommendations for football matches\n",
    "   (events) for users over a one-week period. Personalized recommendations are crucial in\n",
    "   numerous applications to ensure users are satisfied with the content provided. In this case,\n",
    "   you will generate personalized recommendations of football matches for a one-week period\n",
    "   based on the teams each user follows."
   ]
  },
  {
   "cell_type": "markdown",
   "metadata": {},
   "source": [
    "Data retrival"
   ]
  },
  {
   "cell_type": "code",
   "execution_count": 18,
   "metadata": {},
   "outputs": [],
   "source": [
    "from clickhouse_driver import Client\n",
    "import pandas as pd\n",
    "import ast"
   ]
  },
  {
   "cell_type": "code",
   "execution_count": 19,
   "metadata": {},
   "outputs": [],
   "source": [
    "bqClient = Client(\n",
    "user='mharalovic',\n",
    "password='Fs75EePJ3m54EyysB75U',\n",
    "host='clickhouse.sofascore.ai',\n",
    "port='9000',\n",
    ")"
   ]
  },
  {
   "cell_type": "markdown",
   "metadata": {},
   "source": [
    "Retriving all football teams that played a match between '20230101' and '20230630' from the table sports.event."
   ]
  },
  {
   "cell_type": "code",
   "execution_count": 20,
   "metadata": {},
   "outputs": [],
   "source": [
    "query = \"\"\"    SELECT t.id\n",
    "               FROM sports.event AS e\n",
    "               LEFT JOIN sports.sport AS s ON e.sport_id = toInt8(s.id)\n",
    "               LEFT JOIN sports.team AS t ON e.hometeam_id = t.id\n",
    "               WHERE s.name = 'Football'\n",
    "               AND toYYYYMMDD(e.startdate) BETWEEN '20230101' AND '20230630'\n",
    "               UNION DISTINCT\n",
    "               SELECT t1.id\n",
    "               FROM sports.event AS e\n",
    "               LEFT JOIN sports.sport AS s ON e.sport_id = toInt8(s.id)\n",
    "               LEFT JOIN sports.team AS t1 ON e.awayteam_id = t1.id\n",
    "               WHERE s.name = 'Football'\n",
    "               AND toYYYYMMDD(e.startdate) BETWEEN '20230101' AND '20230630';\n",
    "       \"\"\""
   ]
  },
  {
   "cell_type": "code",
   "execution_count": 21,
   "metadata": {},
   "outputs": [],
   "source": [
    "team_ids = bqClient.execute(query)"
   ]
  },
  {
   "cell_type": "code",
   "execution_count": 22,
   "metadata": {},
   "outputs": [],
   "source": [
    "teams_df = pd.DataFrame(team_ids, columns=['team_id'])\n",
    "teams_df.to_csv('teams.csv', index=False)"
   ]
  },
  {
   "cell_type": "markdown",
   "metadata": {},
   "source": [
    "Retrieving all users data "
   ]
  },
  {
   "cell_type": "code",
   "execution_count": 23,
   "metadata": {},
   "outputs": [],
   "source": [
    "query2 = \"\"\" SELECT user_account_id, teams, mcc\n",
    "            FROM bq.mobileuser\n",
    "            WHERE user_account_id IS NOT NULL\n",
    "               AND length(teams) > 0\n",
    "               AND toYYYYMMDD(created_at) <= '20230630'\n",
    "               AND toYYYYMMDD(updated_at) <= '20230630'\n",
    "               AND mcc IN (216, 218, 219, 220, 221, 222, 226, 232, 262, 276, 284, 293, 294,297)\n",
    "            ORDER BY mcc DESC\n",
    "        \"\"\""
   ]
  },
  {
   "cell_type": "code",
   "execution_count": 24,
   "metadata": {},
   "outputs": [],
   "source": [
    "user_data =  bqClient.execute(query2)"
   ]
  },
  {
   "cell_type": "code",
   "execution_count": 25,
   "metadata": {},
   "outputs": [],
   "source": [
    "user_data_df = pd.DataFrame(user_data, columns=['user_account_id', 'teams', 'mcc'])\n",
    "user_data_df['teams'] = user_data_df['teams'].apply(lambda x: ast.literal_eval(x) if isinstance(x, str) else x)\n"
   ]
  },
  {
   "cell_type": "code",
   "execution_count": 26,
   "metadata": {},
   "outputs": [],
   "source": [
    "user_data_df.to_csv('user_data.csv',index=False)"
   ]
  },
  {
   "cell_type": "code",
   "execution_count": 27,
   "metadata": {},
   "outputs": [
    {
     "data": {
      "text/html": [
       "<div>\n",
       "<style scoped>\n",
       "    .dataframe tbody tr th:only-of-type {\n",
       "        vertical-align: middle;\n",
       "    }\n",
       "\n",
       "    .dataframe tbody tr th {\n",
       "        vertical-align: top;\n",
       "    }\n",
       "\n",
       "    .dataframe thead th {\n",
       "        text-align: right;\n",
       "    }\n",
       "</style>\n",
       "<table border=\"1\" class=\"dataframe\">\n",
       "  <thead>\n",
       "    <tr style=\"text-align: right;\">\n",
       "      <th></th>\n",
       "      <th>user_account_id</th>\n",
       "      <th>teams</th>\n",
       "      <th>mcc</th>\n",
       "    </tr>\n",
       "  </thead>\n",
       "  <tbody>\n",
       "    <tr>\n",
       "      <th>0</th>\n",
       "      <td>5bc624c559a182e430b5c8b4</td>\n",
       "      <td>[5152, 14882, 6637]</td>\n",
       "      <td>297</td>\n",
       "    </tr>\n",
       "    <tr>\n",
       "      <th>1</th>\n",
       "      <td>637e42cdd8b5f7f22307c1a8</td>\n",
       "      <td>[6355, 4715]</td>\n",
       "      <td>297</td>\n",
       "    </tr>\n",
       "    <tr>\n",
       "      <th>2</th>\n",
       "      <td>5e31ec0f6dbf6b00f30debe3</td>\n",
       "      <td>[5152, 6637]</td>\n",
       "      <td>297</td>\n",
       "    </tr>\n",
       "    <tr>\n",
       "      <th>3</th>\n",
       "      <td>6256b62333e7907d55c25836</td>\n",
       "      <td>[8114, 224677, 193686, 187295, 194497, 6635, 7...</td>\n",
       "      <td>297</td>\n",
       "    </tr>\n",
       "    <tr>\n",
       "      <th>4</th>\n",
       "      <td>62362f28b2e2666e19221d7b</td>\n",
       "      <td>[4481, 4739, 1925, 2693, 6023, 2952, 1289, 220...</td>\n",
       "      <td>297</td>\n",
       "    </tr>\n",
       "  </tbody>\n",
       "</table>\n",
       "</div>"
      ],
      "text/plain": [
       "            user_account_id  \\\n",
       "0  5bc624c559a182e430b5c8b4   \n",
       "1  637e42cdd8b5f7f22307c1a8   \n",
       "2  5e31ec0f6dbf6b00f30debe3   \n",
       "3  6256b62333e7907d55c25836   \n",
       "4  62362f28b2e2666e19221d7b   \n",
       "\n",
       "                                               teams  mcc  \n",
       "0                                [5152, 14882, 6637]  297  \n",
       "1                                       [6355, 4715]  297  \n",
       "2                                       [5152, 6637]  297  \n",
       "3  [8114, 224677, 193686, 187295, 194497, 6635, 7...  297  \n",
       "4  [4481, 4739, 1925, 2693, 6023, 2952, 1289, 220...  297  "
      ]
     },
     "execution_count": 27,
     "metadata": {},
     "output_type": "execute_result"
    }
   ],
   "source": [
    "user_data_df.head()"
   ]
  },
  {
   "cell_type": "markdown",
   "metadata": {},
   "source": [
    "Data preprocessing tasks \n",
    "- filter the teams that each user follows by retaining only those teams that are playing relevant events\n",
    "- if a user does not follow any of those teams, discard the user"
   ]
  },
  {
   "cell_type": "markdown",
   "metadata": {},
   "source": [
    "1st task -> getting relevant teams"
   ]
  },
  {
   "cell_type": "code",
   "execution_count": 28,
   "metadata": {},
   "outputs": [],
   "source": [
    "user_data_df['teams'] = user_data_df['teams'].apply(lambda team_list: [team for team in team_list if team in teams_df['team_id'].values])"
   ]
  },
  {
   "cell_type": "code",
   "execution_count": 29,
   "metadata": {},
   "outputs": [],
   "source": [
    "user_data_df = user_data_df[user_data_df['teams'].apply(len) > 0]"
   ]
  },
  {
   "cell_type": "markdown",
   "metadata": {},
   "source": [
    "- Grouping user by MCC and getting the teams that each user follow\n",
    "- Creating dict afterwards -> key is mcc, values are 'teams' and 'user_account_id', which hold all the inf about the teams and user account connected to specific group (mcc) -> for O(1) lookups"
   ]
  },
  {
   "cell_type": "code",
   "execution_count": 41,
   "metadata": {},
   "outputs": [],
   "source": [
    "grouped_by_mcc = user_data_df.groupby('mcc').agg({\n",
    "    'user_account_id': lambda x: list(x),\n",
    "    'teams': lambda x: list(set(sum(x, [])))\n",
    "}).reset_index().set_index('mcc')"
   ]
  },
  {
   "cell_type": "code",
   "execution_count": 59,
   "metadata": {},
   "outputs": [],
   "source": [
    "grouped_by_mcc = grouped_by_mcc.apply(lambda row: row.update({'user_account_id': sorted(row['user_account_id']), 'teams': sorted(row['teams'])}) or row, axis=1)"
   ]
  },
  {
   "cell_type": "code",
   "execution_count": 60,
   "metadata": {},
   "outputs": [],
   "source": [
    "grouped_by_mcc_dict = grouped_by_mcc.to_dict(orient='index')"
   ]
  },
  {
   "cell_type": "code",
   "execution_count": 67,
   "metadata": {},
   "outputs": [],
   "source": [
    "import pickle \n",
    "\n",
    "with open('grouped_by_mcc_dict.pkl', 'wb') as f:\n",
    "    pickle.dump(grouped_by_mcc_dict, f)"
   ]
  },
  {
   "cell_type": "code",
   "execution_count": 66,
   "metadata": {},
   "outputs": [],
   "source": [
    "user_data_df.to_csv('user_data.csv',index=False)"
   ]
  },
  {
   "cell_type": "code",
   "execution_count": null,
   "metadata": {},
   "outputs": [],
   "source": []
  }
 ],
 "metadata": {
  "kernelspec": {
   "display_name": "Python 3",
   "language": "python",
   "name": "python3"
  },
  "language_info": {
   "codemirror_mode": {
    "name": "ipython",
    "version": 3
   },
   "file_extension": ".py",
   "mimetype": "text/x-python",
   "name": "python",
   "nbconvert_exporter": "python",
   "pygments_lexer": "ipython3",
   "version": "3.11.5"
  }
 },
 "nbformat": 4,
 "nbformat_minor": 2
}
